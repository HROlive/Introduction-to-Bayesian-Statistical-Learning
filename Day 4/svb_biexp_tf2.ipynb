{
 "cells": [
  {
   "cell_type": "markdown",
   "metadata": {},
   "source": [
    "Stochastic Variational Bayes - example nonlinear model\n",
    "==============================================\n",
    "\n",
    "This notebook implements stochastic variational Bayes for a nonlinear model. The model we will use is a bi-exponential model, i.e. we will assume our data reflects a time-dependent signal of the following form:\n",
    "\n",
    "$$S_{true}(t) = A_1 e^{-R_1t} + A_2 e^{-R_2t}$$\n",
    "\n",
    "However the actual time dependent signal $S(t)$ will be affected by additive Gaussian noise, so will have the distribution:\n",
    "\n",
    "$$P(S(t)) = \\frac{\\sqrt{\\beta}}{\\sqrt{2\\pi}} \\exp{\\bigg(-\\frac{\\beta}{2} (S(t) - S_{true}(t))^2}\\bigg)$$\n",
    "\n",
    "Given $S(t)$ our aim will be to infer the values of $A_1$, $A_2$, $R_1$, $R_2$ and $\\beta$.\n",
    "\n",
    "Here's how we can generate some sample data from this model in Python:"
   ]
  },
  {
   "cell_type": "code",
   "execution_count": 1,
   "metadata": {
    "vscode": {
     "languageId": "python"
    }
   },
   "outputs": [
    {
     "name": "stdout",
     "output_type": "stream",
     "text": [
      "Data samples are:\n",
      "[ 2.03620472e+01  1.76781216e+01  1.39776282e+01  1.10712623e+01\n",
      "  1.16523916e+01  1.30277908e+01  1.25537193e+01  1.01704583e+01\n",
      "  7.96354263e+00  9.20085070e+00  8.75754246e+00  9.35617879e+00\n",
      "  7.89357752e+00  7.53311329e+00  5.91293872e+00  5.24376529e+00\n",
      "  6.28336297e+00  6.71847155e+00  5.71790066e+00  5.25259236e+00\n",
      "  6.56513068e+00  6.95087490e+00  6.12893516e+00  7.12010747e+00\n",
      "  6.39054434e+00  3.36110237e+00  5.24067202e+00  5.17919296e+00\n",
      "  4.53724675e+00  4.20705702e+00  4.31729696e+00  2.78275598e+00\n",
      "  5.56552827e+00  5.43811444e+00  3.58719833e+00  4.85273364e+00\n",
      "  4.53756383e+00  2.42757610e+00  3.13918933e+00  2.63059348e+00\n",
      "  2.03080086e+00  2.53277044e+00  2.79351027e+00  4.18524491e+00\n",
      "  2.84583052e+00  2.47523917e+00  2.80880143e+00  2.88411467e+00\n",
      "  4.35590416e+00  2.38959304e+00  3.70478916e+00  1.26115357e+00\n",
      "  3.53994629e+00  2.26371690e+00  3.67565582e+00  1.81290846e+00\n",
      "  4.87808803e-01  1.71551353e+00  2.81804463e+00  1.65500374e+00\n",
      "  2.05152381e+00  2.31362865e+00  2.64819312e+00  1.04163689e-01\n",
      "  2.15565841e+00  2.84082623e+00  2.22363156e+00  1.69315977e+00\n",
      " -1.48598226e-02  9.32533929e-03  2.21885990e+00  1.72331807e+00\n",
      "  8.73697296e-01  1.58991128e+00  3.45045992e+00  9.90859664e-01\n",
      "  1.15792744e+00  1.02745892e+00  1.97796970e+00  1.50277410e+00\n",
      "  2.44121134e+00  3.18994846e+00  1.93163364e+00  1.06704942e+00\n",
      "  1.55037340e+00  1.00462960e+00  1.35572740e+00  1.75299392e-01\n",
      "  1.58040422e+00  2.48303428e+00  1.14703694e+00  8.54837489e-01\n",
      "  1.38005522e+00  2.52592716e-01 -4.30831092e-01  1.49594355e+00\n",
      "  1.47165632e+00  1.68166865e+00 -1.01012022e+00  1.67268457e+00\n",
      "  1.64854603e+00 -5.14833991e-01  3.52822298e-01 -2.28589149e-01\n",
      "  6.29631984e-01  1.39003582e+00  1.79227013e+00 -1.45065940e-02\n",
      "  7.84766104e-01  1.76306832e+00 -4.90317522e-01  6.50280679e-01\n",
      " -2.57597827e+00  9.67710157e-01  1.20854107e-01  8.04335447e-01\n",
      "  1.41536283e+00 -3.08961604e-01  1.36912774e+00  4.39539872e-01\n",
      " -2.99185860e-01  8.24312201e-01  4.49438227e-01 -5.59622708e-01\n",
      " -1.94886082e-01  1.41361978e+00  3.53411754e-01 -2.15636575e+00\n",
      "  6.42295292e-01 -1.10171873e-01  4.52087704e-01  2.50551787e-01\n",
      " -2.76845582e-01 -3.40397981e-02 -1.52621755e+00  2.21713254e-01\n",
      " -8.94173404e-01  3.84562605e-01 -2.16465922e-01  1.26362820e+00\n",
      " -8.64662292e-01 -1.80149764e-01 -2.50034817e-01  4.40519169e-01\n",
      "  8.14419526e-01  9.38449237e-01  1.19993681e+00 -1.39000596e+00\n",
      " -3.43890752e-01  1.30759870e-01  2.70952957e-01  1.37185684e-01\n",
      "  1.54659280e+00  9.64976063e-01 -3.46476770e-02  2.09807350e+00\n",
      " -2.12499002e-02 -1.03933571e+00 -1.31959675e+00  9.99991576e-01\n",
      " -1.24689743e+00  1.66216228e+00  1.07757694e-02  9.33931324e-01\n",
      " -4.23189470e-01  1.33272005e+00  6.06856755e-01  3.03137652e-01\n",
      "  1.91326183e-01 -6.27514905e-01 -4.17695667e-01 -1.22337127e+00\n",
      " -4.74243936e-03  6.17601284e-01 -6.06842773e-01  1.18880575e-01\n",
      "  1.05808811e+00 -1.25474748e-01  1.56192277e+00 -1.49168252e+00\n",
      "  8.24082426e-01 -6.95631429e-01  8.49622698e-02 -1.34546320e+00\n",
      "  5.71835405e-01  8.10534452e-01 -1.31301694e-01 -3.72783179e-01\n",
      " -3.74598991e-01 -6.93093569e-01  1.15441219e+00 -3.57336625e-01\n",
      " -5.39608652e-01  2.00796488e+00  1.48405142e+00  1.05920302e+00\n",
      " -7.56504039e-01  1.17203209e+00  4.39541412e-01 -7.85448587e-01]\n"
     ]
    }
   ],
   "source": [
    "import numpy as np\n",
    "%matplotlib inline\n",
    "# Ground truth parameters\n",
    "# We infer the precision, BETA, but it is useful to\n",
    "# derive the variance and standard deviation from it\n",
    "A1_TRUTH = 10.0\n",
    "A2_TRUTH = 10.0\n",
    "R1_TRUTH = 10.0\n",
    "R2_TRUTH = 1.0\n",
    "BETA_TRUTH = 1.0\n",
    "VAR_TRUTH = 1/BETA_TRUTH\n",
    "STD_TRUTH = np.sqrt(VAR_TRUTH)\n",
    "\n",
    "# Observed data samples are generated by Numpy from the ground truth\n",
    "# Gaussian distribution. Reducing the number of samples should make\n",
    "# the inference less 'confident' - i.e. the output variances for\n",
    "# MU and BETA will increase\n",
    "N = 200\n",
    "T = np.linspace(0, 5, N)\n",
    "\n",
    "\n",
    "DATA_CLEAN = A1_TRUTH * np.exp(-R1_TRUTH * T) + A2_TRUTH * np.exp(-R2_TRUTH*T)\n",
    "DATA = DATA_CLEAN + np.random.normal(0, STD_TRUTH, [N])\n",
    "print(\"Data samples are:\")\n",
    "print(DATA)"
   ]
  },
  {
   "cell_type": "markdown",
   "metadata": {},
   "source": [
    "We can plot this data to illustrate the true signal (green line) and the measured data (red crosses):"
   ]
  },
  {
   "cell_type": "code",
   "execution_count": 2,
   "metadata": {
    "vscode": {
     "languageId": "python"
    }
   },
   "outputs": [
    {
     "data": {
      "text/plain": [
       "[<matplotlib.lines.Line2D at 0x14bca86cbbb0>]"
      ]
     },
     "execution_count": 2,
     "metadata": {},
     "output_type": "execute_result"
    },
    {
     "data": {
      "image/png": "[encoded data removed]",
      "text/plain": [
       "<Figure size 432x288 with 1 Axes>"
      ]
     },
     "metadata": {
      "needs_background": "light"
     },
     "output_type": "display_data"
    }
   ],
   "source": [
    "from matplotlib import pyplot as plt\n",
    "plt.figure()\n",
    "plt.plot(DATA, \"rx\")\n",
    "plt.plot(DATA_CLEAN, \"g\")"
   ]
  },
  {
   "cell_type": "markdown",
   "metadata": {},
   "source": [
    "As with the single Gaussian example we will use a multivariate normal distribution as our prior and approximate posterior distributions. \n",
    "\n",
    "One difference here is that we will choose to infer the log of the decay rate parameters $R_1$ and $R_2$. This is because if these parameters are allowed to become negative the model prediction will become an exponential growth and can easily lead to numerical errors.\n",
    "\n",
    "We will still choose our priors to be relatively uninformative as follows:\n"
   ]
  },
  {
   "cell_type": "code",
   "execution_count": 3,
   "metadata": {
    "vscode": {
     "languageId": "python"
    }
   },
   "outputs": [
    {
     "name": "stdout",
     "output_type": "stream",
     "text": [
      "Priors: Amplitude mean=1.000000, variance=100000.000000\n",
      "        Log decay rate mean=0.000000, variance=10.000000\n",
      "        Log noise variance mean=0.000000, variance=10.000000\n"
     ]
    }
   ],
   "source": [
    "a0 = 1.0\n",
    "v0 = 100000.0\n",
    "r0 = 0.0\n",
    "u0 = 10.0\n",
    "b0 = 0.0\n",
    "w0 = 10.0\n",
    "print(\"Priors: Amplitude mean=%f, variance=%f\" % (a0, v0))\n",
    "print(\"        Log decay rate mean=%f, variance=%f\" % (r0, u0))\n",
    "print(\"        Log noise variance mean=%f, variance=%f\" % (b0, w0))"
   ]
  },
  {
   "cell_type": "markdown",
   "metadata": {},
   "source": [
    "The posterior will be defined in the same way as for the single Gaussian example, however we need to account for the increased number of parameters we are inferring. We will initialize the posterior with the prior values but with reduced initial variance to prevent problems with generating a representative posterior sample. Remember that the decay rates (and the noise) are being inferred as their log-values so the prior mean of 0 translates into a value of 1.\n",
    "\n",
    "The code to generate a posterior sample is unchanged except for the number of parameters.\n",
    "\n",
    "In calculating the reconstruction cost we need to calculate the log likelihood of the data given a set of model parameters. We do this by observing that any difference between the biexponential model prediction (given these parameters) and the actual noisy data must be a result of the Gaussian noise - hence the likelihood is simply the likelihood of drawing these differences from the Gaussian noise distribution:\n",
    "\n",
    "$$\\log P(\\textbf{y} | A_1; A_2; r_1; r_2; \\beta) = \\frac{1}{2} \\bigg( N \\log \\beta - \\sum{\\frac{(y_n - M_n)^2}{\\beta}}\\bigg)$$\n",
    "\n",
    "Here $M_n$ is the model prediction for the nth data point which is calculated by evaluating the biexponential model for the given parameters $A_1$, $A_2$, $r_1$ and $r_2$.\n",
    "\n",
    "For the latent loss we will again use the analytic expression for the K-L divergence of two MVN distributions with a slight modification to the previous code to account for the different number of parameters (5 vs 2)"
   ]
  },
  {
   "cell_type": "code",
   "execution_count": 4,
   "metadata": {
    "vscode": {
     "languageId": "python"
    }
   },
   "outputs": [
    {
     "name": "stderr",
     "output_type": "stream",
     "text": [
      "2023-03-19 17:07:51.945965: I tensorflow/core/common_runtime/gpu/gpu_device.cc:1510] Created device /job:localhost/replica:0/task:0/device:GPU:0 with 38284 MB memory:  -> device: 0, name: NVIDIA A100-SXM4-40GB, pci bus id: 0000:03:00.0, compute capability: 8.0\n",
      "2023-03-19 17:07:51.947931: I tensorflow/core/common_runtime/gpu/gpu_device.cc:1510] Created device /job:localhost/replica:0/task:0/device:GPU:1 with 38284 MB memory:  -> device: 1, name: NVIDIA A100-SXM4-40GB, pci bus id: 0000:44:00.0, compute capability: 8.0\n",
      "2023-03-19 17:07:51.949520: I tensorflow/core/common_runtime/gpu/gpu_device.cc:1510] Created device /job:localhost/replica:0/task:0/device:GPU:2 with 38284 MB memory:  -> device: 2, name: NVIDIA A100-SXM4-40GB, pci bus id: 0000:84:00.0, compute capability: 8.0\n",
      "2023-03-19 17:07:51.951196: I tensorflow/core/common_runtime/gpu/gpu_device.cc:1510] Created device /job:localhost/replica:0/task:0/device:GPU:3 with 38284 MB memory:  -> device: 3, name: NVIDIA A100-SXM4-40GB, pci bus id: 0000:c4:00.0, compute capability: 8.0\n"
     ]
    }
   ],
   "source": [
    "import tensorflow as tf\n",
    "\n",
    "# Number of parameters - 4 for the biexponential + noise\n",
    "NUM_PARAMS = 4 + 1\n",
    "\n",
    "data = tf.constant(DATA, dtype=tf.float32)\n",
    "prior_means = tf.constant([a0, r0, a0, r0, b0], dtype=tf.float32)\n",
    "prior_covariance = tf.linalg.diag(tf.constant([v0, u0, v0, u0, w0], dtype=tf.float32))\n",
    "\n",
    "post_means_init = prior_means\n",
    "post_covariance_init = np.identity(NUM_PARAMS, dtype=np.float32)\n",
    "\n",
    "chol_off_diag = tf.Variable(np.zeros(post_covariance_init.shape), dtype=tf.float32)\n",
    "# Comment in this line if you do NOT want to infer parameter covariances\n",
    "#chol_off_diag = tf.constant([[0, 0], [0, 0]], dtype=tf.float32)\n",
    "chol_log_diag = tf.Variable(tf.math.log(tf.linalg.diag_part(post_covariance_init)), dtype=tf.float32)\n",
    "\n",
    "post_means = tf.Variable(post_means_init, dtype=tf.float32)\n",
    "\n",
    "t = tf.reshape(tf.constant(T, dtype=tf.float32), [1, -1])\n",
    "\n",
    "\n",
    "\n",
    "def cost_fun():\n",
    "\n",
    "    chol_diag = tf.linalg.diag(tf.math.sqrt(tf.math.exp(chol_log_diag)))\n",
    "    post_covariance_chol = tf.math.add(chol_diag, tf.linalg.band_part(chol_off_diag, -1, 0))\n",
    "\n",
    "    post_covariance = tf.matmul(tf.transpose(post_covariance_chol), post_covariance_chol)\n",
    "\n",
    "    S=5\n",
    "    N=200\n",
    "\n",
    "# eps is a sample from a Gaussian with mean 0 and variance 1\n",
    "    eps = tf.random.normal((NUM_PARAMS, S), 0, 1, dtype=tf.float32)\n",
    "\n",
    "# Start off each sample with the current posterior mean\n",
    "# post_samples is now a tensor of shape [NUM_PARAMS, n_samples]\n",
    "    samples = tf.tile(tf.reshape(post_means, [NUM_PARAMS, 1]), [1, S])\n",
    "\n",
    "# Now add the random sample scaled by the covariance\n",
    "    post_samples = tf.add(samples, tf.matmul(post_covariance_chol, eps))\n",
    "\n",
    "    a1 = tf.reshape(post_samples[0], [-1, 1])\n",
    "    r1 = tf.math.exp(tf.reshape(post_samples[1], [-1, 1]))\n",
    "    a2 = tf.reshape(post_samples[2], [-1, 1])\n",
    "    r2 = tf.math.exp(tf.reshape(post_samples[3], [-1, 1]))\n",
    "\n",
    "# Get the current estimate of the noise variance remembering that\n",
    "# we are inferring the log of the noise precision, beta\n",
    "    log_noise_var = -post_samples[4]\n",
    "    noise_var = tf.math.exp(log_noise_var)\n",
    "\n",
    "# Each sample value predicts the full set of values in the data sample.\n",
    "# For our constant-signal model, the prediction is simply a set of \n",
    "# constant values. The prediction tensor will have shape [S, N]\n",
    "# where S is the sample size and N is the number of data values\n",
    "    \n",
    "\n",
    "    prediction = a1*tf.math.exp(-r1*t) + a2*tf.exp(-r2*t)\n",
    "    diff = tf.reshape(data, [1, -1]) - prediction\n",
    "\n",
    "# To calculate the likelihood we need the sum of the squared difference between the data  \n",
    "# and the prediction. This gives a value for each posterior sample so has shape [S]\n",
    "    sum_square_diff = tf.reduce_sum(tf.math.square(diff), axis=1)\n",
    "\n",
    "# Now we calculate the likelihood for each posterior sample (shape [S])\n",
    "# Note that we are ignoring constant factors such as 2*PI here as they \n",
    "# are just an fixed offset and do not affect the optimization \n",
    "    log_likelihood = 0.5 * (-log_noise_var * tf.cast(N,dtype=tf.float32) - sum_square_diff / noise_var)\n",
    "\n",
    "# Finally to evaluate the expectation value we take the mean across all the posterior\n",
    "# samples. The negative of this is the reconstruction loss\n",
    "    reconstr_loss = -tf.reduce_mean(log_likelihood)\n",
    "\n",
    "    C = post_covariance\n",
    "    C0 = prior_covariance\n",
    "    #print(\"is this the problem? 1\")\n",
    "    #print(tf.linalg.det(C0))\n",
    "    C0_inv = tf.linalg.inv(C0)\n",
    "    #print(\"is this the problem? 2\")\n",
    "\n",
    "# m - m0 as row and column vectors\n",
    "    m_minus_m0 = tf.reshape(tf.subtract(post_means, prior_means), [-1, 1])\n",
    "    m_minus_m0_T = tf.reshape(tf.subtract(post_means, prior_means), [1, -1])\n",
    "\n",
    "    term1 = tf.linalg.trace(tf.matmul(C0_inv, C))\n",
    "    term2 = -tf.math.log(tf.linalg.det(C) / tf.linalg.det(C0))\n",
    "\n",
    "# Size of the MVN distribution\n",
    "    term3 = -NUM_PARAMS\n",
    "    term4 = tf.matmul(tf.matmul(m_minus_m0_T, C0_inv), m_minus_m0)\n",
    "          \n",
    "    latent_loss = 0.5 * (term1 + term2 + term3 + term4)\n",
    "\n",
    "    #cost = reconstr_loss + latent_loss\n",
    "    cost=reconstr_loss\n",
    "\n",
    "    return cost\n",
    "\n",
    "\n"
   ]
  },
  {
   "cell_type": "markdown",
   "metadata": {},
   "source": [
    "Finally we ask TensorFlow to minimise the total cost iteratively:"
   ]
  },
  {
   "cell_type": "code",
   "execution_count": 7,
   "metadata": {
    "vscode": {
     "languageId": "python"
    }
   },
   "outputs": [
    {
     "data": {
      "application/vnd.jupyter.widget-view+json": {
       "model_id": "cd06775d27544b8b8190d373e6d0b97a",
       "version_major": 2,
       "version_minor": 0
      },
      "text/plain": [
       "Epoch::   0%|          | 0/5000 [00:00<?, ?it/s]"
      ]
     },
     "metadata": {},
     "output_type": "display_data"
    }
   ],
   "source": [
    "optimizer = tf.keras.optimizers.Adam(learning_rate=0.02)\n",
    "#minimizer = optimizer.minimize(cost)\n",
    "#sess.run(tf.global_variables_initializer())\n",
    "from tqdm.notebook import tqdm_notebook\n",
    "\n",
    "cost_history = []\n",
    "for epoch in tqdm_notebook(range(5000), desc=\"Epoch:\"):\n",
    "    #sess.run(minimizer)\n",
    "\n",
    "    optimizer.minimize(cost_fun,var_list=[chol_off_diag,chol_log_diag,post_means])\n",
    "    #print(float(cost_fun()))\n",
    "    cost_history.append(float(cost_fun()))\n",
    "    #print(\"Epoch %i: posterior means=%s\" % (epoch+1, post_means))"
   ]
  },
  {
   "cell_type": "code",
   "execution_count": 8,
   "metadata": {
    "vscode": {
     "languageId": "python"
    }
   },
   "outputs": [
    {
     "name": "stdout",
     "output_type": "stream",
     "text": [
      "Estimate for amp1: 10.243862 (variance: 0.000000)\n",
      "Estimate for amp2: 9.581695 (variance: 0.000000)\n",
      "Estimate for r1: 1.075554\n",
      "Estimate for r2: 11.576426\n",
      "Estimate for beta (noise): 0.912233\n"
     ]
    }
   ],
   "source": [
    "final_means = post_means\n",
    "\n",
    "chol_diag = tf.linalg.diag(tf.math.sqrt(tf.math.exp(chol_log_diag)))\n",
    "post_covariance_chol = tf.add(chol_diag, tf.linalg.band_part(chol_off_diag, -1, 0))\n",
    "\n",
    "post_covariance = tf.matmul(tf.transpose(post_covariance_chol), post_covariance_chol)\n",
    "\n",
    "final_covariance = post_covariance\n",
    "print(\"Estimate for amp1: %f (variance: %f)\" % (final_means[0], final_covariance[0, 0]))\n",
    "print(\"Estimate for amp2: %f (variance: %f)\" % (final_means[2], final_covariance[0, 0]))\n",
    "print(\"Estimate for r1: %f\" % (np.exp(final_means[1]),))\n",
    "print(\"Estimate for r2: %f\" % (np.exp(final_means[3]),))\n",
    "print(\"Estimate for beta (noise): %f\" % np.exp(-final_means[4]))"
   ]
  },
  {
   "cell_type": "code",
   "execution_count": 10,
   "metadata": {
    "vscode": {
     "languageId": "python"
    }
   },
   "outputs": [
    {
     "data": {
      "image/png": "[encoded data removed]",
      "text/plain": [
       "<Figure size 432x288 with 1 Axes>"
      ]
     },
     "metadata": {
      "needs_background": "light"
     },
     "output_type": "display_data"
    },
    {
     "data": {
      "image/png": "[encoded data removed]",
      "text/plain": [
       "<Figure size 432x288 with 1 Axes>"
      ]
     },
     "metadata": {
      "needs_background": "light"
     },
     "output_type": "display_data"
    }
   ],
   "source": [
    "plt.figure()\n",
    "plt.plot(cost_history)\n",
    "plt.ylim(0, 500)\n",
    "\n",
    "plt.figure()\n",
    "plt.plot(DATA_CLEAN, 'g')\n",
    "plt.plot(DATA, 'rx')\n",
    "S=5\n",
    "eps = tf.random.normal((NUM_PARAMS, S), 0, 1, dtype=tf.float32)\n",
    "\n",
    "samples = tf.tile(tf.reshape(post_means, [NUM_PARAMS, 1]), [1, S])\n",
    "\n",
    "# Now add the random sample scaled by the covariance\n",
    "post_samples = tf.add(samples, tf.matmul(post_covariance_chol, eps))\n",
    "\n",
    "a1 = tf.reshape(post_samples[0], [-1, 1])\n",
    "r1 = tf.math.exp(tf.reshape(post_samples[1], [-1, 1]))\n",
    "a2 = tf.reshape(post_samples[2], [-1, 1])\n",
    "r2 = tf.math.exp(tf.reshape(post_samples[3], [-1, 1]))\n",
    "\n",
    "# Get the current estimate of the noise variance remembering that\n",
    "# we are inferring the log of the noise precision, beta\n",
    "log_noise_var = -post_samples[4]\n",
    "noise_var = tf.math.exp(log_noise_var)\n",
    "\n",
    "# Each sample value predicts the full set of values in the data sample.\n",
    "# For our constant-signal model, the prediction is simply a set of \n",
    "# constant values. The prediction tensor will have shape [S, N]\n",
    "# where S is the sample size and N is the number of data values\n",
    "t = tf.reshape(tf.constant(T, dtype=tf.float32), [1, -1])\n",
    "prediction = a1*tf.math.exp(-r1*t) + a2*tf.exp(-r2*t)\n",
    "\n",
    "plt.plot(prediction[0], 'b')\n",
    "plt.show()"
   ]
  },
  {
   "cell_type": "code",
   "execution_count": null,
   "metadata": {
    "vscode": {
     "languageId": "python"
    }
   },
   "outputs": [],
   "source": []
  }
 ],
 "metadata": {
  "kernelspec": {
   "display_name": "PyDeepLearning-1.1",
   "language": "python",
   "name": "pydeeplearning"
  },
  "language_info": {
   "codemirror_mode": {
    "name": "ipython",
    "version": 3
   },
   "file_extension": ".py",
   "mimetype": "text/x-python",
   "name": "python",
   "nbconvert_exporter": "python",
   "pygments_lexer": "ipython3",
   "version": "3.9.6"
  },
  "vscode": {
   "interpreter": {
    "hash": "31f2aee4e71d21fbe5cf8b01ff0e069b9275f58929596ceb00d14d90e3e16cd6"
   }
  }
 },
 "nbformat": 4,
 "nbformat_minor": 4
}
